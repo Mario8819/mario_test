{
 "cells": [
  {
   "cell_type": "markdown",
   "id": "843f16ee-cf55-4e6b-a2da-771326b2c785",
   "metadata": {},
   "source": [
    "# Markdown práctica obligatoria"
   ]
  },
  {
   "cell_type": "markdown",
   "id": "0f634a87-b0f6-458c-83c6-0801170800ec",
   "metadata": {},
   "source": [
    "## Ejercicio 1"
   ]
  },
  {
   "cell_type": "markdown",
   "id": "5a83ede5-7b60-44b6-9d83-d3870b622691",
   "metadata": {},
   "source": [
    "#### Imagen"
   ]
  },
  {
   "cell_type": "markdown",
   "id": "53b11bc4-917c-401c-9d59-012f0b38dd63",
   "metadata": {},
   "source": [
    "![imagen](./Imagen_1.png)"
   ]
  },
  {
   "cell_type": "markdown",
   "id": "348cfcad-4867-45ae-864f-6ec58b1a5f3f",
   "metadata": {},
   "source": [
    "#### Link pagina "
   ]
  },
  {
   "cell_type": "markdown",
   "id": "078338a6-4b1b-4ee0-ac0b-ebe4b896c6ff",
   "metadata": {},
   "source": [
    "[El link de la pagina](https://www.kaggle.com/)"
   ]
  },
  {
   "cell_type": "markdown",
   "id": "74692a6a-6b6c-4ae9-9f08-eb0f15ce44ac",
   "metadata": {},
   "source": [
    "## Ejercicio 2"
   ]
  },
  {
   "cell_type": "markdown",
   "id": "3c9e9d58-8d78-43a7-8390-6d751834106a",
   "metadata": {},
   "source": [
    "#### Tabla"
   ]
  },
  {
   "cell_type": "markdown",
   "id": "569a38a2-f88b-4440-88ca-1c25def0637f",
   "metadata": {},
   "source": [
    "| Ram Up | Data Analysis | Machine Learning | Data & Businesess |\n",
    "|--------|---------------| -----------------|-------------------|\n",
    "| Python |    EDA        |   Supervised     |  Productivizacion |\n",
    "|Estadisitca|   R        |  Non supervised  |   Storytelling    |\n",
    "|  SQL   | Feat. Eng.    |  Deep Learning   |     API           |"
   ]
  },
  {
   "cell_type": "markdown",
   "id": "8eeed5e4-ecfc-4e56-ac29-b71ffb4d1810",
   "metadata": {},
   "source": [
    "#### Formula"
   ]
  },
  {
   "cell_type": "markdown",
   "id": "b76ea919-e941-4b86-8791-5436dac5d115",
   "metadata": {},
   "source": [
    "$\\sqrt{3x-1}+({1+x})^2$"
   ]
  }
 ],
 "metadata": {
  "kernelspec": {
   "display_name": "Python 3 (ipykernel)",
   "language": "python",
   "name": "python3"
  },
  "language_info": {
   "codemirror_mode": {
    "name": "ipython",
    "version": 3
   },
   "file_extension": ".py",
   "mimetype": "text/x-python",
   "name": "python",
   "nbconvert_exporter": "python",
   "pygments_lexer": "ipython3",
   "version": "3.10.11"
  }
 },
 "nbformat": 4,
 "nbformat_minor": 5
}
